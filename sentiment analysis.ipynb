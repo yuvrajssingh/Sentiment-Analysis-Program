{
 "cells": [
  {
   "cell_type": "code",
   "execution_count": 1,
   "metadata": {},
   "outputs": [],
   "source": [
    "import turicreate as tc"
   ]
  },
  {
   "cell_type": "code",
   "execution_count": 2,
   "metadata": {},
   "outputs": [
    {
     "data": {
      "text/html": [
       "<pre>Unexpected characters after last column. \"B000GW46D4\"\n",
       "Parse failed at token ending at: \n",
       "\tyself that tastes much better than this.\"\r\n",
       "35360,B000GW46D4,\u001b[1;31m^\u001b[0mA1DPWQR4WSPXTM,Japri,0,0,2,1331424000,Very unsat\n",
       "Successfully parsed 10 tokens: \n",
       "\t0: 35359\n",
       "\t1: B000GW46D4\n",
       "\t2: A2Y4S4CNGKF21S\n",
       "\t3: H. Swanson\n",
       "\t4: 0\n",
       "\t5: 0\n",
       "\t6: 2\n",
       "\t7: 1332374400\n",
       "\t8: Very dry,  ... rumbly :\",\n",
       "\t9: to the poi ... s.\"\r\n",
       "35360</pre>"
      ],
      "text/plain": [
       "Unexpected characters after last column. \"B000GW46D4\"\n",
       "Parse failed at token ending at: \n",
       "\tyself that tastes much better than this.\"\r\n",
       "35360,B000GW46D4,\u001b[1;31m^\u001b[0mA1DPWQR4WSPXTM,Japri,0,0,2,1331424000,Very unsat\n",
       "Successfully parsed 10 tokens: \n",
       "\t0: 35359\n",
       "\t1: B000GW46D4\n",
       "\t2: A2Y4S4CNGKF21S\n",
       "\t3: H. Swanson\n",
       "\t4: 0\n",
       "\t5: 0\n",
       "\t6: 2\n",
       "\t7: 1332374400\n",
       "\t8: Very dry,  ... rumbly :\",\n",
       "\t9: to the poi ... s.\"\r\n",
       "35360"
      ]
     },
     "metadata": {},
     "output_type": "display_data"
    },
    {
     "data": {
      "text/html": [
       "<pre>Unexpected characters after last column. \"one of only a very few\"\n",
       "Parse failed at token ending at: \n",
       "\thile. This is a very rare hot sauce, one of only a very few,\u001b[1;31m^\u001b[0m where the actual chile is the major ingredient.\n",
       "Successfully parsed 10 tokens: \n",
       "\t0: 74275\n",
       "\t1: B005B3HKPO\n",
       "\t2: A3OC6M21K4UAQ\n",
       "\t3: tw\n",
       "\t4: 2\n",
       "\t5: 5\n",
       "\t6: 2\n",
       "\t7: 1328486400\n",
       "\t8: whats with ... is smell??\n",
       "\t9: ummm can s ... mmended!.,</pre>"
      ],
      "text/plain": [
       "Unexpected characters after last column. \"one of only a very few\"\n",
       "Parse failed at token ending at: \n",
       "\thile. This is a very rare hot sauce, one of only a very few,\u001b[1;31m^\u001b[0m where the actual chile is the major ingredient.\n",
       "Successfully parsed 10 tokens: \n",
       "\t0: 74275\n",
       "\t1: B005B3HKPO\n",
       "\t2: A3OC6M21K4UAQ\n",
       "\t3: tw\n",
       "\t4: 2\n",
       "\t5: 5\n",
       "\t6: 2\n",
       "\t7: 1328486400\n",
       "\t8: whats with ... is smell??\n",
       "\t9: ummm can s ... mmended!.,"
      ]
     },
     "metadata": {},
     "output_type": "display_data"
    },
    {
     "data": {
      "text/html": [
       "<pre>Unexpected characters after last column. \"B000PMJLJO\"\n",
       "Parse failed at token ending at: \n",
       "\tyself that tastes much better than this.\"\r\n",
       "88623,B000PMJLJO,\u001b[1;31m^\u001b[0mA1DPWQR4WSPXTM,Japri,0,0,2,1331424000,Very unsat\n",
       "Successfully parsed 10 tokens: \n",
       "\t0: 88622\n",
       "\t1: B000PMJLJO\n",
       "\t2: A2Y4S4CNGKF21S\n",
       "\t3: H. Swanson\n",
       "\t4: 0\n",
       "\t5: 0\n",
       "\t6: 2\n",
       "\t7: 1332374400\n",
       "\t8: Very dry,  ... rumbly :\",\n",
       "\t9: to the poi ... s.\"\r\n",
       "88623</pre>"
      ],
      "text/plain": [
       "Unexpected characters after last column. \"B000PMJLJO\"\n",
       "Parse failed at token ending at: \n",
       "\tyself that tastes much better than this.\"\r\n",
       "88623,B000PMJLJO,\u001b[1;31m^\u001b[0mA1DPWQR4WSPXTM,Japri,0,0,2,1331424000,Very unsat\n",
       "Successfully parsed 10 tokens: \n",
       "\t0: 88622\n",
       "\t1: B000PMJLJO\n",
       "\t2: A2Y4S4CNGKF21S\n",
       "\t3: H. Swanson\n",
       "\t4: 0\n",
       "\t5: 0\n",
       "\t6: 2\n",
       "\t7: 1332374400\n",
       "\t8: Very dry,  ... rumbly :\",\n",
       "\t9: to the poi ... s.\"\r\n",
       "88623"
      ]
     },
     "metadata": {},
     "output_type": "display_data"
    },
    {
     "data": {
      "text/html": [
       "<pre>3 lines failed to parse correctly</pre>"
      ],
      "text/plain": [
       "3 lines failed to parse correctly"
      ]
     },
     "metadata": {},
     "output_type": "display_data"
    },
    {
     "data": {
      "text/html": [
       "<pre>Finished parsing file /Users/yuvrajsingh/Documents/DBMS PROJECT/Sentiment_Analysis/Reviews.csv</pre>"
      ],
      "text/plain": [
       "Finished parsing file /Users/yuvrajsingh/Documents/DBMS PROJECT/Sentiment_Analysis/Reviews.csv"
      ]
     },
     "metadata": {},
     "output_type": "display_data"
    },
    {
     "data": {
      "text/html": [
       "<pre>Parsing completed. Parsed 100 lines in 1.14261 secs.</pre>"
      ],
      "text/plain": [
       "Parsing completed. Parsed 100 lines in 1.14261 secs."
      ]
     },
     "metadata": {},
     "output_type": "display_data"
    },
    {
     "name": "stdout",
     "output_type": "stream",
     "text": [
      "------------------------------------------------------\n",
      "Inferred types from first 100 line(s) of file as \n",
      "column_type_hints=[int,str,str,str,int,int,int,int,str,str]\n",
      "If parsing fails due to incorrect types, you can correct\n",
      "the inferred type list above and pass it to read_csv in\n",
      "the column_type_hints argument\n",
      "------------------------------------------------------\n"
     ]
    },
    {
     "data": {
      "text/html": [
       "<pre>Unexpected characters after last column. \"B000GW46D4\"\n",
       "Parse failed at token ending at: \n",
       "\tyself that tastes much better than this.\"\r\n",
       "35360,B000GW46D4,\u001b[1;31m^\u001b[0mA1DPWQR4WSPXTM,Japri,0,0,2,1331424000,Very unsat\n",
       "Successfully parsed 10 tokens: \n",
       "\t0: 35359\n",
       "\t1: B000GW46D4\n",
       "\t2: A2Y4S4CNGKF21S\n",
       "\t3: H. Swanson\n",
       "\t4: 0\n",
       "\t5: 0\n",
       "\t6: 2\n",
       "\t7: 1332374400\n",
       "\t8: \"Very dry, ... edibly dry\n",
       "\t9: to the poi ... s.\"\r\n",
       "35360</pre>"
      ],
      "text/plain": [
       "Unexpected characters after last column. \"B000GW46D4\"\n",
       "Parse failed at token ending at: \n",
       "\tyself that tastes much better than this.\"\r\n",
       "35360,B000GW46D4,\u001b[1;31m^\u001b[0mA1DPWQR4WSPXTM,Japri,0,0,2,1331424000,Very unsat\n",
       "Successfully parsed 10 tokens: \n",
       "\t0: 35359\n",
       "\t1: B000GW46D4\n",
       "\t2: A2Y4S4CNGKF21S\n",
       "\t3: H. Swanson\n",
       "\t4: 0\n",
       "\t5: 0\n",
       "\t6: 2\n",
       "\t7: 1332374400\n",
       "\t8: \"Very dry, ... edibly dry\n",
       "\t9: to the poi ... s.\"\r\n",
       "35360"
      ]
     },
     "metadata": {},
     "output_type": "display_data"
    },
    {
     "data": {
      "text/html": [
       "<pre>Unexpected characters after last column. \"one of only a very few\"\n",
       "Parse failed at token ending at: \n",
       "\thile. This is a very rare hot sauce, one of only a very few,\u001b[1;31m^\u001b[0m where the actual chile is the major ingredient.\n",
       "Successfully parsed 10 tokens: \n",
       "\t0: 74275\n",
       "\t1: B005B3HKPO\n",
       "\t2: A3OC6M21K4UAQ\n",
       "\t3: tw\n",
       "\t4: 2\n",
       "\t5: 5\n",
       "\t6: 2\n",
       "\t7: 1328486400\n",
       "\t8: whats with ... is smell??\n",
       "\t9: \"ummm can  ...  hot sauce</pre>"
      ],
      "text/plain": [
       "Unexpected characters after last column. \"one of only a very few\"\n",
       "Parse failed at token ending at: \n",
       "\thile. This is a very rare hot sauce, one of only a very few,\u001b[1;31m^\u001b[0m where the actual chile is the major ingredient.\n",
       "Successfully parsed 10 tokens: \n",
       "\t0: 74275\n",
       "\t1: B005B3HKPO\n",
       "\t2: A3OC6M21K4UAQ\n",
       "\t3: tw\n",
       "\t4: 2\n",
       "\t5: 5\n",
       "\t6: 2\n",
       "\t7: 1328486400\n",
       "\t8: whats with ... is smell??\n",
       "\t9: \"ummm can  ...  hot sauce"
      ]
     },
     "metadata": {},
     "output_type": "display_data"
    },
    {
     "data": {
      "text/html": [
       "<pre>Unexpected characters after last column. \"B000PMJLJO\"\n",
       "Parse failed at token ending at: \n",
       "\tyself that tastes much better than this.\"\r\n",
       "88623,B000PMJLJO,\u001b[1;31m^\u001b[0mA1DPWQR4WSPXTM,Japri,0,0,2,1331424000,Very unsat\n",
       "Successfully parsed 10 tokens: \n",
       "\t0: 88622\n",
       "\t1: B000PMJLJO\n",
       "\t2: A2Y4S4CNGKF21S\n",
       "\t3: H. Swanson\n",
       "\t4: 0\n",
       "\t5: 0\n",
       "\t6: 2\n",
       "\t7: 1332374400\n",
       "\t8: \"Very dry, ... edibly dry\n",
       "\t9: to the poi ... s.\"\r\n",
       "88623</pre>"
      ],
      "text/plain": [
       "Unexpected characters after last column. \"B000PMJLJO\"\n",
       "Parse failed at token ending at: \n",
       "\tyself that tastes much better than this.\"\r\n",
       "88623,B000PMJLJO,\u001b[1;31m^\u001b[0mA1DPWQR4WSPXTM,Japri,0,0,2,1331424000,Very unsat\n",
       "Successfully parsed 10 tokens: \n",
       "\t0: 88622\n",
       "\t1: B000PMJLJO\n",
       "\t2: A2Y4S4CNGKF21S\n",
       "\t3: H. Swanson\n",
       "\t4: 0\n",
       "\t5: 0\n",
       "\t6: 2\n",
       "\t7: 1332374400\n",
       "\t8: \"Very dry, ... edibly dry\n",
       "\t9: to the poi ... s.\"\r\n",
       "88623"
      ]
     },
     "metadata": {},
     "output_type": "display_data"
    },
    {
     "data": {
      "text/html": [
       "<pre>Unexpected characters after last column. \"but that awful after taste has no place in my afternoons.  Fog Chaser is flavorful but smooth. If you have had difficulty finding a good coffee for the new machines\"\n",
       "Parse failed at token ending at: \n",
       "\te had difficulty finding a good coffee for the new machines,\u001b[1;31m^\u001b[0m do give this one a try.\"\r\n",
       "181216,B007Y59HVM,#oc\n",
       "Successfully parsed 10 tokens: \n",
       "\t0: 181213\n",
       "\t1: B007Y59HVM\n",
       "\t2: #oc-R3W5DW4JKJT228\n",
       "\t3: Mamaw\n",
       "\t4: 0\n",
       "\t5: 2\n",
       "\t6: 1\n",
       "\t7: 1346112000\n",
       "\t8: Disappointed\n",
       "\t9: \"I regret  ... he morning</pre>"
      ],
      "text/plain": [
       "Unexpected characters after last column. \"but that awful after taste has no place in my afternoons.  Fog Chaser is flavorful but smooth. If you have had difficulty finding a good coffee for the new machines\"\n",
       "Parse failed at token ending at: \n",
       "\te had difficulty finding a good coffee for the new machines,\u001b[1;31m^\u001b[0m do give this one a try.\"\r\n",
       "181216,B007Y59HVM,#oc\n",
       "Successfully parsed 10 tokens: \n",
       "\t0: 181213\n",
       "\t1: B007Y59HVM\n",
       "\t2: #oc-R3W5DW4JKJT228\n",
       "\t3: Mamaw\n",
       "\t4: 0\n",
       "\t5: 2\n",
       "\t6: 1\n",
       "\t7: 1346112000\n",
       "\t8: Disappointed\n",
       "\t9: \"I regret  ... he morning"
      ]
     },
     "metadata": {},
     "output_type": "display_data"
    },
    {
     "data": {
      "text/html": [
       "<pre>Read 71361 lines. Lines per second: 51271.5</pre>"
      ],
      "text/plain": [
       "Read 71361 lines. Lines per second: 51271.5"
      ]
     },
     "metadata": {},
     "output_type": "display_data"
    },
    {
     "data": {
      "text/html": [
       "<pre>Unexpected characters after last column. \"0\"\n",
       "Parse failed at token ending at: \n",
       "\t/>\\\"\r\n",
       "190510,B0012UEHFQ,A2788LGTSGCFA6,\"Mom of 3 \"\"sue\"\"\",0,\u001b[1;31m^\u001b[0m0,5,1329436800,She Loves Them!,I have a crazy do\n",
       "Successfully parsed 10 tokens: \n",
       "\t0: 190509\n",
       "\t1: B0012UEHFQ\n",
       "\t2: A3CR0UBHFX0NE7\n",
       "\t3: Sharee Lee Peterson\n",
       "\t4: 0\n",
       "\t5: 0\n",
       "\t6: 1\n",
       "\t7: 1330300800\n",
       "\t8: Poor Substitute\n",
       "\t9: I had prev ... of 3 \"sue\"</pre>"
      ],
      "text/plain": [
       "Unexpected characters after last column. \"0\"\n",
       "Parse failed at token ending at: \n",
       "\t/>\\\"\r\n",
       "190510,B0012UEHFQ,A2788LGTSGCFA6,\"Mom of 3 \"\"sue\"\"\",0,\u001b[1;31m^\u001b[0m0,5,1329436800,She Loves Them!,I have a crazy do\n",
       "Successfully parsed 10 tokens: \n",
       "\t0: 190509\n",
       "\t1: B0012UEHFQ\n",
       "\t2: A3CR0UBHFX0NE7\n",
       "\t3: Sharee Lee Peterson\n",
       "\t4: 0\n",
       "\t5: 0\n",
       "\t6: 1\n",
       "\t7: 1330300800\n",
       "\t8: Poor Substitute\n",
       "\t9: I had prev ... of 3 \"sue\""
      ]
     },
     "metadata": {},
     "output_type": "display_data"
    },
    {
     "data": {
      "text/html": [
       "<pre>Unable to interpret \"r the chicken\" as a integer\n",
       "Parse failed at token ending at: \n",
       "\tr the chicken,\u001b[1;31m^\u001b[0m no more treat mix-in's, only pure dog-food!<br \n",
       "Successfully parsed 0 tokens:</pre>"
      ],
      "text/plain": [
       "Unable to interpret \"r the chicken\" as a integer\n",
       "Parse failed at token ending at: \n",
       "\tr the chicken,\u001b[1;31m^\u001b[0m no more treat mix-in's, only pure dog-food!<br \n",
       "Successfully parsed 0 tokens:"
      ]
     },
     "metadata": {},
     "output_type": "display_data"
    },
    {
     "data": {
      "text/html": [
       "<pre>Unable to interpret \"ium</a> actually worked really well. We have a medium-sized lab + something mix and she really enjoyed these. I'm generally not a big fan of dog treats\" as a integer\n",
       "Parse failed at token ending at: \n",
       "\tly enjoyed these. I'm generally not a big fan of dog treats,\u001b[1;31m^\u001b[0m because they stink,, they don't help her breath\n",
       "Successfully parsed 0 tokens:</pre>"
      ],
      "text/plain": [
       "Unable to interpret \"ium</a> actually worked really well. We have a medium-sized lab + something mix and she really enjoyed these. I'm generally not a big fan of dog treats\" as a integer\n",
       "Parse failed at token ending at: \n",
       "\tly enjoyed these. I'm generally not a big fan of dog treats,\u001b[1;31m^\u001b[0m because they stink,, they don't help her breath\n",
       "Successfully parsed 0 tokens:"
      ]
     },
     "metadata": {},
     "output_type": "display_data"
    },
    {
     "data": {
      "text/html": [
       "<pre>Unable to interpret \"ous review I decided to try this out and I love it. The first thing I do in the morning is grab me a cup of Numi's Jasmine Green tea. It helps that its organic also.\" as a integer\n",
       "Parse failed at token ending at: \n",
       "\tous review I decided to try this out and I love it. The first thing I do in the morning is grab me a cup of Numi's Jasmine Green tea. It helps that its organic also.\u001b[1;31m^\u001b[0m\n",
       "Successfully parsed 0 tokens:</pre>"
      ],
      "text/plain": [
       "Unable to interpret \"ous review I decided to try this out and I love it. The first thing I do in the morning is grab me a cup of Numi's Jasmine Green tea. It helps that its organic also.\" as a integer\n",
       "Parse failed at token ending at: \n",
       "\tous review I decided to try this out and I love it. The first thing I do in the morning is grab me a cup of Numi's Jasmine Green tea. It helps that its organic also.\u001b[1;31m^\u001b[0m\n",
       "Successfully parsed 0 tokens:"
      ]
     },
     "metadata": {},
     "output_type": "display_data"
    },
    {
     "data": {
      "text/html": [
       "<pre>Unable to interpret \"no carbonation.  Great for dieters who don't want the calories but are sick of the flavor of water.  The Cherry mint ha a nice flavor with a hint of cherry.  Delicious.\"\r\n",
       "514288\" as a integer\n",
       "Parse failed at token ending at: \n",
       "\ta a nice flavor with a hint of cherry.  Delicious.\"\r\n",
       "514288,\u001b[1;31m^\u001b[0mB0081X097M,A1YN5RSMH6TTZP,ltgr;blu,0,0,5,1332979\n",
       "Successfully parsed 4 tokens: \n",
       "\t0: 514285\n",
       "\t1: B0081X097M\n",
       "\t2: ATO7WKMVJD6XQ\n",
       "\t3: \"Curcio \"\" ... tives.Plus</pre>"
      ],
      "text/plain": [
       "Unable to interpret \"no carbonation.  Great for dieters who don't want the calories but are sick of the flavor of water.  The Cherry mint ha a nice flavor with a hint of cherry.  Delicious.\"\r\n",
       "514288\" as a integer\n",
       "Parse failed at token ending at: \n",
       "\ta a nice flavor with a hint of cherry.  Delicious.\"\r\n",
       "514288,\u001b[1;31m^\u001b[0mB0081X097M,A1YN5RSMH6TTZP,ltgr;blu,0,0,5,1332979\n",
       "Successfully parsed 4 tokens: \n",
       "\t0: 514285\n",
       "\t1: B0081X097M\n",
       "\t2: ATO7WKMVJD6XQ\n",
       "\t3: \"Curcio \"\" ... tives.Plus"
      ]
     },
     "metadata": {},
     "output_type": "display_data"
    },
    {
     "data": {
      "text/html": [
       "<pre>9 lines failed to parse correctly</pre>"
      ],
      "text/plain": [
       "9 lines failed to parse correctly"
      ]
     },
     "metadata": {},
     "output_type": "display_data"
    },
    {
     "data": {
      "text/html": [
       "<pre>Finished parsing file /Users/yuvrajsingh/Documents/DBMS PROJECT/Sentiment_Analysis/Reviews.csv</pre>"
      ],
      "text/plain": [
       "Finished parsing file /Users/yuvrajsingh/Documents/DBMS PROJECT/Sentiment_Analysis/Reviews.csv"
      ]
     },
     "metadata": {},
     "output_type": "display_data"
    },
    {
     "data": {
      "text/html": [
       "<pre>Parsing completed. Parsed 227721 lines in 3.68661 secs.</pre>"
      ],
      "text/plain": [
       "Parsing completed. Parsed 227721 lines in 3.68661 secs."
      ]
     },
     "metadata": {},
     "output_type": "display_data"
    }
   ],
   "source": [
    "sf = tc.SFrame('Reviews.csv')"
   ]
  },
  {
   "cell_type": "code",
   "execution_count": 3,
   "metadata": {},
   "outputs": [
    {
     "data": {
      "text/html": [
       "<div style=\"max-height:1000px;max-width:1500px;overflow:auto;\"><table frame=\"box\" rules=\"cols\">\n",
       "    <tr>\n",
       "        <th style=\"padding-left: 1em; padding-right: 1em; text-align: center\">Id</th>\n",
       "        <th style=\"padding-left: 1em; padding-right: 1em; text-align: center\">ProductId</th>\n",
       "        <th style=\"padding-left: 1em; padding-right: 1em; text-align: center\">UserId</th>\n",
       "        <th style=\"padding-left: 1em; padding-right: 1em; text-align: center\">ProfileName</th>\n",
       "        <th style=\"padding-left: 1em; padding-right: 1em; text-align: center\">HelpfulnessNumerator</th>\n",
       "        <th style=\"padding-left: 1em; padding-right: 1em; text-align: center\">HelpfulnessDenominator</th>\n",
       "        <th style=\"padding-left: 1em; padding-right: 1em; text-align: center\">Score</th>\n",
       "    </tr>\n",
       "    <tr>\n",
       "        <td style=\"padding-left: 1em; padding-right: 1em; text-align: center; vertical-align: top\">1</td>\n",
       "        <td style=\"padding-left: 1em; padding-right: 1em; text-align: center; vertical-align: top\">B001E4KFG0</td>\n",
       "        <td style=\"padding-left: 1em; padding-right: 1em; text-align: center; vertical-align: top\">A3SGXH7AUHU8GW</td>\n",
       "        <td style=\"padding-left: 1em; padding-right: 1em; text-align: center; vertical-align: top\">delmartian</td>\n",
       "        <td style=\"padding-left: 1em; padding-right: 1em; text-align: center; vertical-align: top\">1</td>\n",
       "        <td style=\"padding-left: 1em; padding-right: 1em; text-align: center; vertical-align: top\">1</td>\n",
       "        <td style=\"padding-left: 1em; padding-right: 1em; text-align: center; vertical-align: top\">5</td>\n",
       "    </tr>\n",
       "    <tr>\n",
       "        <td style=\"padding-left: 1em; padding-right: 1em; text-align: center; vertical-align: top\">2</td>\n",
       "        <td style=\"padding-left: 1em; padding-right: 1em; text-align: center; vertical-align: top\">B00813GRG4</td>\n",
       "        <td style=\"padding-left: 1em; padding-right: 1em; text-align: center; vertical-align: top\">A1D87F6ZCVE5NK</td>\n",
       "        <td style=\"padding-left: 1em; padding-right: 1em; text-align: center; vertical-align: top\">dll pa</td>\n",
       "        <td style=\"padding-left: 1em; padding-right: 1em; text-align: center; vertical-align: top\">0</td>\n",
       "        <td style=\"padding-left: 1em; padding-right: 1em; text-align: center; vertical-align: top\">0</td>\n",
       "        <td style=\"padding-left: 1em; padding-right: 1em; text-align: center; vertical-align: top\">1</td>\n",
       "    </tr>\n",
       "    <tr>\n",
       "        <td style=\"padding-left: 1em; padding-right: 1em; text-align: center; vertical-align: top\">3</td>\n",
       "        <td style=\"padding-left: 1em; padding-right: 1em; text-align: center; vertical-align: top\">B000LQOCH0</td>\n",
       "        <td style=\"padding-left: 1em; padding-right: 1em; text-align: center; vertical-align: top\">ABXLMWJIXXAIN</td>\n",
       "        <td style=\"padding-left: 1em; padding-right: 1em; text-align: center; vertical-align: top\">Natalia Corres &quot;Natalia<br>Corres&quot; ...</td>\n",
       "        <td style=\"padding-left: 1em; padding-right: 1em; text-align: center; vertical-align: top\">1</td>\n",
       "        <td style=\"padding-left: 1em; padding-right: 1em; text-align: center; vertical-align: top\">1</td>\n",
       "        <td style=\"padding-left: 1em; padding-right: 1em; text-align: center; vertical-align: top\">4</td>\n",
       "    </tr>\n",
       "    <tr>\n",
       "        <td style=\"padding-left: 1em; padding-right: 1em; text-align: center; vertical-align: top\">4</td>\n",
       "        <td style=\"padding-left: 1em; padding-right: 1em; text-align: center; vertical-align: top\">B000UA0QIQ</td>\n",
       "        <td style=\"padding-left: 1em; padding-right: 1em; text-align: center; vertical-align: top\">A395BORC6FGVXV</td>\n",
       "        <td style=\"padding-left: 1em; padding-right: 1em; text-align: center; vertical-align: top\">Karl</td>\n",
       "        <td style=\"padding-left: 1em; padding-right: 1em; text-align: center; vertical-align: top\">3</td>\n",
       "        <td style=\"padding-left: 1em; padding-right: 1em; text-align: center; vertical-align: top\">3</td>\n",
       "        <td style=\"padding-left: 1em; padding-right: 1em; text-align: center; vertical-align: top\">2</td>\n",
       "    </tr>\n",
       "    <tr>\n",
       "        <td style=\"padding-left: 1em; padding-right: 1em; text-align: center; vertical-align: top\">5</td>\n",
       "        <td style=\"padding-left: 1em; padding-right: 1em; text-align: center; vertical-align: top\">B006K2ZZ7K</td>\n",
       "        <td style=\"padding-left: 1em; padding-right: 1em; text-align: center; vertical-align: top\">A1UQRSCLF8GW1T</td>\n",
       "        <td style=\"padding-left: 1em; padding-right: 1em; text-align: center; vertical-align: top\">Michael D. Bigham &quot;M.<br>Wassir&quot; ...</td>\n",
       "        <td style=\"padding-left: 1em; padding-right: 1em; text-align: center; vertical-align: top\">0</td>\n",
       "        <td style=\"padding-left: 1em; padding-right: 1em; text-align: center; vertical-align: top\">0</td>\n",
       "        <td style=\"padding-left: 1em; padding-right: 1em; text-align: center; vertical-align: top\">5</td>\n",
       "    </tr>\n",
       "    <tr>\n",
       "        <td style=\"padding-left: 1em; padding-right: 1em; text-align: center; vertical-align: top\">6</td>\n",
       "        <td style=\"padding-left: 1em; padding-right: 1em; text-align: center; vertical-align: top\">B006K2ZZ7K</td>\n",
       "        <td style=\"padding-left: 1em; padding-right: 1em; text-align: center; vertical-align: top\">ADT0SRK1MGOEU</td>\n",
       "        <td style=\"padding-left: 1em; padding-right: 1em; text-align: center; vertical-align: top\">Twoapennything</td>\n",
       "        <td style=\"padding-left: 1em; padding-right: 1em; text-align: center; vertical-align: top\">0</td>\n",
       "        <td style=\"padding-left: 1em; padding-right: 1em; text-align: center; vertical-align: top\">0</td>\n",
       "        <td style=\"padding-left: 1em; padding-right: 1em; text-align: center; vertical-align: top\">4</td>\n",
       "    </tr>\n",
       "    <tr>\n",
       "        <td style=\"padding-left: 1em; padding-right: 1em; text-align: center; vertical-align: top\">7</td>\n",
       "        <td style=\"padding-left: 1em; padding-right: 1em; text-align: center; vertical-align: top\">B006K2ZZ7K</td>\n",
       "        <td style=\"padding-left: 1em; padding-right: 1em; text-align: center; vertical-align: top\">A1SP2KVKFXXRU1</td>\n",
       "        <td style=\"padding-left: 1em; padding-right: 1em; text-align: center; vertical-align: top\">David C. Sullivan</td>\n",
       "        <td style=\"padding-left: 1em; padding-right: 1em; text-align: center; vertical-align: top\">0</td>\n",
       "        <td style=\"padding-left: 1em; padding-right: 1em; text-align: center; vertical-align: top\">0</td>\n",
       "        <td style=\"padding-left: 1em; padding-right: 1em; text-align: center; vertical-align: top\">5</td>\n",
       "    </tr>\n",
       "    <tr>\n",
       "        <td style=\"padding-left: 1em; padding-right: 1em; text-align: center; vertical-align: top\">8</td>\n",
       "        <td style=\"padding-left: 1em; padding-right: 1em; text-align: center; vertical-align: top\">B006K2ZZ7K</td>\n",
       "        <td style=\"padding-left: 1em; padding-right: 1em; text-align: center; vertical-align: top\">A3JRGQVEQN31IQ</td>\n",
       "        <td style=\"padding-left: 1em; padding-right: 1em; text-align: center; vertical-align: top\">Pamela G. Williams</td>\n",
       "        <td style=\"padding-left: 1em; padding-right: 1em; text-align: center; vertical-align: top\">0</td>\n",
       "        <td style=\"padding-left: 1em; padding-right: 1em; text-align: center; vertical-align: top\">0</td>\n",
       "        <td style=\"padding-left: 1em; padding-right: 1em; text-align: center; vertical-align: top\">5</td>\n",
       "    </tr>\n",
       "    <tr>\n",
       "        <td style=\"padding-left: 1em; padding-right: 1em; text-align: center; vertical-align: top\">9</td>\n",
       "        <td style=\"padding-left: 1em; padding-right: 1em; text-align: center; vertical-align: top\">B000E7L2R4</td>\n",
       "        <td style=\"padding-left: 1em; padding-right: 1em; text-align: center; vertical-align: top\">A1MZYO9TZK0BBI</td>\n",
       "        <td style=\"padding-left: 1em; padding-right: 1em; text-align: center; vertical-align: top\">R. James</td>\n",
       "        <td style=\"padding-left: 1em; padding-right: 1em; text-align: center; vertical-align: top\">1</td>\n",
       "        <td style=\"padding-left: 1em; padding-right: 1em; text-align: center; vertical-align: top\">1</td>\n",
       "        <td style=\"padding-left: 1em; padding-right: 1em; text-align: center; vertical-align: top\">5</td>\n",
       "    </tr>\n",
       "    <tr>\n",
       "        <td style=\"padding-left: 1em; padding-right: 1em; text-align: center; vertical-align: top\">10</td>\n",
       "        <td style=\"padding-left: 1em; padding-right: 1em; text-align: center; vertical-align: top\">B00171APVA</td>\n",
       "        <td style=\"padding-left: 1em; padding-right: 1em; text-align: center; vertical-align: top\">A21BT40VZCCYT4</td>\n",
       "        <td style=\"padding-left: 1em; padding-right: 1em; text-align: center; vertical-align: top\">Carol A. Reed</td>\n",
       "        <td style=\"padding-left: 1em; padding-right: 1em; text-align: center; vertical-align: top\">0</td>\n",
       "        <td style=\"padding-left: 1em; padding-right: 1em; text-align: center; vertical-align: top\">0</td>\n",
       "        <td style=\"padding-left: 1em; padding-right: 1em; text-align: center; vertical-align: top\">5</td>\n",
       "    </tr>\n",
       "</table>\n",
       "<table frame=\"box\" rules=\"cols\">\n",
       "    <tr>\n",
       "        <th style=\"padding-left: 1em; padding-right: 1em; text-align: center\">Time</th>\n",
       "        <th style=\"padding-left: 1em; padding-right: 1em; text-align: center\">Summary</th>\n",
       "        <th style=\"padding-left: 1em; padding-right: 1em; text-align: center\">Text</th>\n",
       "    </tr>\n",
       "    <tr>\n",
       "        <td style=\"padding-left: 1em; padding-right: 1em; text-align: center; vertical-align: top\">1303862400</td>\n",
       "        <td style=\"padding-left: 1em; padding-right: 1em; text-align: center; vertical-align: top\">Good Quality Dog Food</td>\n",
       "        <td style=\"padding-left: 1em; padding-right: 1em; text-align: center; vertical-align: top\">I have bought several of<br>the Vitality canned dog ...</td>\n",
       "    </tr>\n",
       "    <tr>\n",
       "        <td style=\"padding-left: 1em; padding-right: 1em; text-align: center; vertical-align: top\">1346976000</td>\n",
       "        <td style=\"padding-left: 1em; padding-right: 1em; text-align: center; vertical-align: top\">Not as Advertised</td>\n",
       "        <td style=\"padding-left: 1em; padding-right: 1em; text-align: center; vertical-align: top\">Product arrived labeled<br>as Jumbo Salted ...</td>\n",
       "    </tr>\n",
       "    <tr>\n",
       "        <td style=\"padding-left: 1em; padding-right: 1em; text-align: center; vertical-align: top\">1219017600</td>\n",
       "        <td style=\"padding-left: 1em; padding-right: 1em; text-align: center; vertical-align: top\">&quot;Delight&quot; says it all</td>\n",
       "        <td style=\"padding-left: 1em; padding-right: 1em; text-align: center; vertical-align: top\">This is a confection that<br>has been around a few ...</td>\n",
       "    </tr>\n",
       "    <tr>\n",
       "        <td style=\"padding-left: 1em; padding-right: 1em; text-align: center; vertical-align: top\">1307923200</td>\n",
       "        <td style=\"padding-left: 1em; padding-right: 1em; text-align: center; vertical-align: top\">Cough Medicine</td>\n",
       "        <td style=\"padding-left: 1em; padding-right: 1em; text-align: center; vertical-align: top\">If you are looking for<br>the secret ingredient in ...</td>\n",
       "    </tr>\n",
       "    <tr>\n",
       "        <td style=\"padding-left: 1em; padding-right: 1em; text-align: center; vertical-align: top\">1350777600</td>\n",
       "        <td style=\"padding-left: 1em; padding-right: 1em; text-align: center; vertical-align: top\">Great taffy</td>\n",
       "        <td style=\"padding-left: 1em; padding-right: 1em; text-align: center; vertical-align: top\">Great taffy at a great<br>price.  There was a wide ...</td>\n",
       "    </tr>\n",
       "    <tr>\n",
       "        <td style=\"padding-left: 1em; padding-right: 1em; text-align: center; vertical-align: top\">1342051200</td>\n",
       "        <td style=\"padding-left: 1em; padding-right: 1em; text-align: center; vertical-align: top\">Nice Taffy</td>\n",
       "        <td style=\"padding-left: 1em; padding-right: 1em; text-align: center; vertical-align: top\">I got a wild hair for<br>taffy and ordered this ...</td>\n",
       "    </tr>\n",
       "    <tr>\n",
       "        <td style=\"padding-left: 1em; padding-right: 1em; text-align: center; vertical-align: top\">1340150400</td>\n",
       "        <td style=\"padding-left: 1em; padding-right: 1em; text-align: center; vertical-align: top\">Great!  Just as good as<br>the expensive brands! ...</td>\n",
       "        <td style=\"padding-left: 1em; padding-right: 1em; text-align: center; vertical-align: top\">This saltwater taffy had<br>great flavors and was ...</td>\n",
       "    </tr>\n",
       "    <tr>\n",
       "        <td style=\"padding-left: 1em; padding-right: 1em; text-align: center; vertical-align: top\">1336003200</td>\n",
       "        <td style=\"padding-left: 1em; padding-right: 1em; text-align: center; vertical-align: top\">Wonderful, tasty taffy</td>\n",
       "        <td style=\"padding-left: 1em; padding-right: 1em; text-align: center; vertical-align: top\">This taffy is so good.<br>It is very soft and ...</td>\n",
       "    </tr>\n",
       "    <tr>\n",
       "        <td style=\"padding-left: 1em; padding-right: 1em; text-align: center; vertical-align: top\">1322006400</td>\n",
       "        <td style=\"padding-left: 1em; padding-right: 1em; text-align: center; vertical-align: top\">Yay Barley</td>\n",
       "        <td style=\"padding-left: 1em; padding-right: 1em; text-align: center; vertical-align: top\">Right now I&#x27;m mostly just<br>sprouting this so my  ...</td>\n",
       "    </tr>\n",
       "    <tr>\n",
       "        <td style=\"padding-left: 1em; padding-right: 1em; text-align: center; vertical-align: top\">1351209600</td>\n",
       "        <td style=\"padding-left: 1em; padding-right: 1em; text-align: center; vertical-align: top\">Healthy Dog Food</td>\n",
       "        <td style=\"padding-left: 1em; padding-right: 1em; text-align: center; vertical-align: top\">This is a very healthy<br>dog food. Good for their ...</td>\n",
       "    </tr>\n",
       "</table>\n",
       "[227721 rows x 10 columns]<br/>Note: Only the head of the SFrame is printed.<br/>You can use print_rows(num_rows=m, num_columns=n) to print more rows and columns.\n",
       "</div>"
      ],
      "text/plain": [
       "Columns:\n",
       "\tId\tint\n",
       "\tProductId\tstr\n",
       "\tUserId\tstr\n",
       "\tProfileName\tstr\n",
       "\tHelpfulnessNumerator\tint\n",
       "\tHelpfulnessDenominator\tint\n",
       "\tScore\tint\n",
       "\tTime\tint\n",
       "\tSummary\tstr\n",
       "\tText\tstr\n",
       "\n",
       "Rows: 227721\n",
       "\n",
       "Data:\n",
       "+----+------------+----------------+-------------------------------+----------------------+\n",
       "| Id | ProductId  |     UserId     |          ProfileName          | HelpfulnessNumerator |\n",
       "+----+------------+----------------+-------------------------------+----------------------+\n",
       "| 1  | B001E4KFG0 | A3SGXH7AUHU8GW |           delmartian          |          1           |\n",
       "| 2  | B00813GRG4 | A1D87F6ZCVE5NK |             dll pa            |          0           |\n",
       "| 3  | B000LQOCH0 | ABXLMWJIXXAIN  | Natalia Corres \"Natalia Co... |          1           |\n",
       "| 4  | B000UA0QIQ | A395BORC6FGVXV |              Karl             |          3           |\n",
       "| 5  | B006K2ZZ7K | A1UQRSCLF8GW1T | Michael D. Bigham \"M. Wassir\" |          0           |\n",
       "| 6  | B006K2ZZ7K | ADT0SRK1MGOEU  |         Twoapennything        |          0           |\n",
       "| 7  | B006K2ZZ7K | A1SP2KVKFXXRU1 |       David C. Sullivan       |          0           |\n",
       "| 8  | B006K2ZZ7K | A3JRGQVEQN31IQ |       Pamela G. Williams      |          0           |\n",
       "| 9  | B000E7L2R4 | A1MZYO9TZK0BBI |            R. James           |          1           |\n",
       "| 10 | B00171APVA | A21BT40VZCCYT4 |         Carol A. Reed         |          0           |\n",
       "+----+------------+----------------+-------------------------------+----------------------+\n",
       "+------------------------+-------+------------+-------------------------------+\n",
       "| HelpfulnessDenominator | Score |    Time    |            Summary            |\n",
       "+------------------------+-------+------------+-------------------------------+\n",
       "|           1            |   5   | 1303862400 |     Good Quality Dog Food     |\n",
       "|           0            |   1   | 1346976000 |       Not as Advertised       |\n",
       "|           1            |   4   | 1219017600 |     \"Delight\" says it all     |\n",
       "|           3            |   2   | 1307923200 |         Cough Medicine        |\n",
       "|           0            |   5   | 1350777600 |          Great taffy          |\n",
       "|           0            |   4   | 1342051200 |           Nice Taffy          |\n",
       "|           0            |   5   | 1340150400 | Great!  Just as good as th... |\n",
       "|           0            |   5   | 1336003200 |     Wonderful, tasty taffy    |\n",
       "|           1            |   5   | 1322006400 |           Yay Barley          |\n",
       "|           0            |   5   | 1351209600 |        Healthy Dog Food       |\n",
       "+------------------------+-------+------------+-------------------------------+\n",
       "+-------------------------------+\n",
       "|              Text             |\n",
       "+-------------------------------+\n",
       "| I have bought several of t... |\n",
       "| Product arrived labeled as... |\n",
       "| This is a confection that ... |\n",
       "| If you are looking for the... |\n",
       "| Great taffy at a great pri... |\n",
       "| I got a wild hair for taff... |\n",
       "| This saltwater taffy had g... |\n",
       "| This taffy is so good.  It... |\n",
       "| Right now I'm mostly just ... |\n",
       "| This is a very healthy dog... |\n",
       "+-------------------------------+\n",
       "[227721 rows x 10 columns]\n",
       "Note: Only the head of the SFrame is printed.\n",
       "You can use print_rows(num_rows=m, num_columns=n) to print more rows and columns."
      ]
     },
     "execution_count": 3,
     "metadata": {},
     "output_type": "execute_result"
    }
   ],
   "source": [
    "sf"
   ]
  },
  {
   "cell_type": "code",
   "execution_count": 4,
   "metadata": {},
   "outputs": [],
   "source": [
    "sf = sf.remove_columns(['HelpfulnessNumerator', 'HelpfulnessDenominator', 'Time', 'Id', 'ProductId', 'UserId', 'ProfileName', 'Summary'])\n"
   ]
  },
  {
   "cell_type": "code",
   "execution_count": 5,
   "metadata": {},
   "outputs": [
    {
     "data": {
      "text/html": [
       "<div style=\"max-height:1000px;max-width:1500px;overflow:auto;\"><table frame=\"box\" rules=\"cols\">\n",
       "    <tr>\n",
       "        <th style=\"padding-left: 1em; padding-right: 1em; text-align: center\">Score</th>\n",
       "        <th style=\"padding-left: 1em; padding-right: 1em; text-align: center\">Text</th>\n",
       "    </tr>\n",
       "    <tr>\n",
       "        <td style=\"padding-left: 1em; padding-right: 1em; text-align: center; vertical-align: top\">5</td>\n",
       "        <td style=\"padding-left: 1em; padding-right: 1em; text-align: center; vertical-align: top\">I have bought several of<br>the Vitality canned dog ...</td>\n",
       "    </tr>\n",
       "    <tr>\n",
       "        <td style=\"padding-left: 1em; padding-right: 1em; text-align: center; vertical-align: top\">1</td>\n",
       "        <td style=\"padding-left: 1em; padding-right: 1em; text-align: center; vertical-align: top\">Product arrived labeled<br>as Jumbo Salted ...</td>\n",
       "    </tr>\n",
       "    <tr>\n",
       "        <td style=\"padding-left: 1em; padding-right: 1em; text-align: center; vertical-align: top\">4</td>\n",
       "        <td style=\"padding-left: 1em; padding-right: 1em; text-align: center; vertical-align: top\">This is a confection that<br>has been around a few ...</td>\n",
       "    </tr>\n",
       "    <tr>\n",
       "        <td style=\"padding-left: 1em; padding-right: 1em; text-align: center; vertical-align: top\">2</td>\n",
       "        <td style=\"padding-left: 1em; padding-right: 1em; text-align: center; vertical-align: top\">If you are looking for<br>the secret ingredient in ...</td>\n",
       "    </tr>\n",
       "    <tr>\n",
       "        <td style=\"padding-left: 1em; padding-right: 1em; text-align: center; vertical-align: top\">5</td>\n",
       "        <td style=\"padding-left: 1em; padding-right: 1em; text-align: center; vertical-align: top\">Great taffy at a great<br>price.  There was a wide ...</td>\n",
       "    </tr>\n",
       "    <tr>\n",
       "        <td style=\"padding-left: 1em; padding-right: 1em; text-align: center; vertical-align: top\">4</td>\n",
       "        <td style=\"padding-left: 1em; padding-right: 1em; text-align: center; vertical-align: top\">I got a wild hair for<br>taffy and ordered this ...</td>\n",
       "    </tr>\n",
       "    <tr>\n",
       "        <td style=\"padding-left: 1em; padding-right: 1em; text-align: center; vertical-align: top\">5</td>\n",
       "        <td style=\"padding-left: 1em; padding-right: 1em; text-align: center; vertical-align: top\">This saltwater taffy had<br>great flavors and was ...</td>\n",
       "    </tr>\n",
       "    <tr>\n",
       "        <td style=\"padding-left: 1em; padding-right: 1em; text-align: center; vertical-align: top\">5</td>\n",
       "        <td style=\"padding-left: 1em; padding-right: 1em; text-align: center; vertical-align: top\">This taffy is so good.<br>It is very soft and ...</td>\n",
       "    </tr>\n",
       "    <tr>\n",
       "        <td style=\"padding-left: 1em; padding-right: 1em; text-align: center; vertical-align: top\">5</td>\n",
       "        <td style=\"padding-left: 1em; padding-right: 1em; text-align: center; vertical-align: top\">Right now I&#x27;m mostly just<br>sprouting this so my  ...</td>\n",
       "    </tr>\n",
       "    <tr>\n",
       "        <td style=\"padding-left: 1em; padding-right: 1em; text-align: center; vertical-align: top\">5</td>\n",
       "        <td style=\"padding-left: 1em; padding-right: 1em; text-align: center; vertical-align: top\">This is a very healthy<br>dog food. Good for their ...</td>\n",
       "    </tr>\n",
       "</table>\n",
       "[227721 rows x 2 columns]<br/>Note: Only the head of the SFrame is printed.<br/>You can use print_rows(num_rows=m, num_columns=n) to print more rows and columns.\n",
       "</div>"
      ],
      "text/plain": [
       "Columns:\n",
       "\tScore\tint\n",
       "\tText\tstr\n",
       "\n",
       "Rows: 227721\n",
       "\n",
       "Data:\n",
       "+-------+-------------------------------+\n",
       "| Score |              Text             |\n",
       "+-------+-------------------------------+\n",
       "|   5   | I have bought several of t... |\n",
       "|   1   | Product arrived labeled as... |\n",
       "|   4   | This is a confection that ... |\n",
       "|   2   | If you are looking for the... |\n",
       "|   5   | Great taffy at a great pri... |\n",
       "|   4   | I got a wild hair for taff... |\n",
       "|   5   | This saltwater taffy had g... |\n",
       "|   5   | This taffy is so good.  It... |\n",
       "|   5   | Right now I'm mostly just ... |\n",
       "|   5   | This is a very healthy dog... |\n",
       "+-------+-------------------------------+\n",
       "[227721 rows x 2 columns]\n",
       "Note: Only the head of the SFrame is printed.\n",
       "You can use print_rows(num_rows=m, num_columns=n) to print more rows and columns."
      ]
     },
     "execution_count": 5,
     "metadata": {},
     "output_type": "execute_result"
    }
   ],
   "source": [
    "sf"
   ]
  },
  {
   "cell_type": "code",
   "execution_count": 6,
   "metadata": {},
   "outputs": [],
   "source": [
    "sf['word_count'] = tc.text_analytics.count_words(sf['Text'])"
   ]
  },
  {
   "cell_type": "code",
   "execution_count": 7,
   "metadata": {},
   "outputs": [
    {
     "data": {
      "text/html": [
       "<div style=\"max-height:1000px;max-width:1500px;overflow:auto;\"><table frame=\"box\" rules=\"cols\">\n",
       "    <tr>\n",
       "        <th style=\"padding-left: 1em; padding-right: 1em; text-align: center\">Score</th>\n",
       "        <th style=\"padding-left: 1em; padding-right: 1em; text-align: center\">Text</th>\n",
       "        <th style=\"padding-left: 1em; padding-right: 1em; text-align: center\">word_count</th>\n",
       "    </tr>\n",
       "    <tr>\n",
       "        <td style=\"padding-left: 1em; padding-right: 1em; text-align: center; vertical-align: top\">5</td>\n",
       "        <td style=\"padding-left: 1em; padding-right: 1em; text-align: center; vertical-align: top\">I have bought several of<br>the Vitality canned dog ...</td>\n",
       "        <td style=\"padding-left: 1em; padding-right: 1em; text-align: center; vertical-align: top\">{&#x27;most&#x27;: 1.0,<br>&#x27;appreciates&#x27;: 1.0, ...</td>\n",
       "    </tr>\n",
       "    <tr>\n",
       "        <td style=\"padding-left: 1em; padding-right: 1em; text-align: center; vertical-align: top\">1</td>\n",
       "        <td style=\"padding-left: 1em; padding-right: 1em; text-align: center; vertical-align: top\">Product arrived labeled<br>as Jumbo Salted ...</td>\n",
       "        <td style=\"padding-left: 1em; padding-right: 1em; text-align: center; vertical-align: top\">{&#x27;salted&#x27;: 1.0, &#x27;or&#x27;:<br>1.0, &#x27;error&#x27;: 1.0, ...</td>\n",
       "    </tr>\n",
       "    <tr>\n",
       "        <td style=\"padding-left: 1em; padding-right: 1em; text-align: center; vertical-align: top\">4</td>\n",
       "        <td style=\"padding-left: 1em; padding-right: 1em; text-align: center; vertical-align: top\">This is a confection that<br>has been around a few ...</td>\n",
       "        <td style=\"padding-left: 1em; padding-right: 1em; text-align: center; vertical-align: top\">{&#x27;to&#x27;: 1.0, &#x27;brother&#x27;:<br>1.0, &#x27;his&#x27;: 1.0, &#x27;out&#x27;: ...</td>\n",
       "    </tr>\n",
       "    <tr>\n",
       "        <td style=\"padding-left: 1em; padding-right: 1em; text-align: center; vertical-align: top\">2</td>\n",
       "        <td style=\"padding-left: 1em; padding-right: 1em; text-align: center; vertical-align: top\">If you are looking for<br>the secret ingredient in ...</td>\n",
       "        <td style=\"padding-left: 1em; padding-right: 1em; text-align: center; vertical-align: top\">{&#x27;very&#x27;: 1.0, &#x27;is&#x27;: 1.0,<br>&#x27;soda&#x27;: 1.0, &#x27;cherry&#x27;: ...</td>\n",
       "    </tr>\n",
       "    <tr>\n",
       "        <td style=\"padding-left: 1em; padding-right: 1em; text-align: center; vertical-align: top\">5</td>\n",
       "        <td style=\"padding-left: 1em; padding-right: 1em; text-align: center; vertical-align: top\">Great taffy at a great<br>price.  There was a wide ...</td>\n",
       "        <td style=\"padding-left: 1em; padding-right: 1em; text-align: center; vertical-align: top\">{&#x27;is&#x27;: 1.0, &#x27;lover&#x27;: 1.0,<br>&#x27;your&#x27;: 1.0, &#x27;very&#x27;:  ...</td>\n",
       "    </tr>\n",
       "    <tr>\n",
       "        <td style=\"padding-left: 1em; padding-right: 1em; text-align: center; vertical-align: top\">4</td>\n",
       "        <td style=\"padding-left: 1em; padding-right: 1em; text-align: center; vertical-align: top\">I got a wild hair for<br>taffy and ordered this ...</td>\n",
       "        <td style=\"padding-left: 1em; padding-right: 1em; text-align: center; vertical-align: top\">{&#x27;delightful&#x27;: 1.0, &#x27;it&#x27;:<br>1.0, &#x27;of&#x27;: 1.0, &#x27;brand&#x27;: ...</td>\n",
       "    </tr>\n",
       "    <tr>\n",
       "        <td style=\"padding-left: 1em; padding-right: 1em; text-align: center; vertical-align: top\">5</td>\n",
       "        <td style=\"padding-left: 1em; padding-right: 1em; text-align: center; vertical-align: top\">This saltwater taffy had<br>great flavors and was ...</td>\n",
       "        <td style=\"padding-left: 1em; padding-right: 1em; text-align: center; vertical-align: top\">{&#x27;loved&#x27;: 1.0, &#x27;beach&#x27;:<br>1.0, &#x27;at&#x27;: 1.0, &#x27;serv ...</td>\n",
       "    </tr>\n",
       "    <tr>\n",
       "        <td style=\"padding-left: 1em; padding-right: 1em; text-align: center; vertical-align: top\">5</td>\n",
       "        <td style=\"padding-left: 1em; padding-right: 1em; text-align: center; vertical-align: top\">This taffy is so good.<br>It is very soft and ...</td>\n",
       "        <td style=\"padding-left: 1em; padding-right: 1em; text-align: center; vertical-align: top\">{&#x27;satisfying&#x27;: 1.0,<br>&#x27;buying&#x27;: 1.0, &#x27;you&#x27;: ...</td>\n",
       "    </tr>\n",
       "    <tr>\n",
       "        <td style=\"padding-left: 1em; padding-right: 1em; text-align: center; vertical-align: top\">5</td>\n",
       "        <td style=\"padding-left: 1em; padding-right: 1em; text-align: center; vertical-align: top\">Right now I&#x27;m mostly just<br>sprouting this so my  ...</td>\n",
       "        <td style=\"padding-left: 1em; padding-right: 1em; text-align: center; vertical-align: top\">{&#x27;rye&#x27;: 1.0, &#x27;grass&#x27;:<br>1.0, &#x27;and&#x27;: 1.0, ...</td>\n",
       "    </tr>\n",
       "    <tr>\n",
       "        <td style=\"padding-left: 1em; padding-right: 1em; text-align: center; vertical-align: top\">5</td>\n",
       "        <td style=\"padding-left: 1em; padding-right: 1em; text-align: center; vertical-align: top\">This is a very healthy<br>dog food. Good for their ...</td>\n",
       "        <td style=\"padding-left: 1em; padding-right: 1em; text-align: center; vertical-align: top\">{&#x27;every&#x27;: 1.0, &#x27;at&#x27;: 1.0,<br>&#x27;feeding&#x27;: 1.0, &#x27;her&#x27;: ...</td>\n",
       "    </tr>\n",
       "</table>\n",
       "[227721 rows x 3 columns]<br/>Note: Only the head of the SFrame is printed.<br/>You can use print_rows(num_rows=m, num_columns=n) to print more rows and columns.\n",
       "</div>"
      ],
      "text/plain": [
       "Columns:\n",
       "\tScore\tint\n",
       "\tText\tstr\n",
       "\tword_count\tdict\n",
       "\n",
       "Rows: 227721\n",
       "\n",
       "Data:\n",
       "+-------+-------------------------------+-------------------------------+\n",
       "| Score |              Text             |           word_count          |\n",
       "+-------+-------------------------------+-------------------------------+\n",
       "|   5   | I have bought several of t... | {'most': 1.0, 'appreciates... |\n",
       "|   1   | Product arrived labeled as... | {'salted': 1.0, 'or': 1.0,... |\n",
       "|   4   | This is a confection that ... | {'to': 1.0, 'brother': 1.0... |\n",
       "|   2   | If you are looking for the... | {'very': 1.0, 'is': 1.0, '... |\n",
       "|   5   | Great taffy at a great pri... | {'is': 1.0, 'lover': 1.0, ... |\n",
       "|   4   | I got a wild hair for taff... | {'delightful': 1.0, 'it': ... |\n",
       "|   5   | This saltwater taffy had g... | {'loved': 1.0, 'beach': 1.... |\n",
       "|   5   | This taffy is so good.  It... | {'satisfying': 1.0, 'buyin... |\n",
       "|   5   | Right now I'm mostly just ... | {'rye': 1.0, 'grass': 1.0,... |\n",
       "|   5   | This is a very healthy dog... | {'every': 1.0, 'at': 1.0, ... |\n",
       "+-------+-------------------------------+-------------------------------+\n",
       "[227721 rows x 3 columns]\n",
       "Note: Only the head of the SFrame is printed.\n",
       "You can use print_rows(num_rows=m, num_columns=n) to print more rows and columns."
      ]
     },
     "execution_count": 7,
     "metadata": {},
     "output_type": "execute_result"
    }
   ],
   "source": [
    "sf"
   ]
  },
  {
   "cell_type": "code",
   "execution_count": 8,
   "metadata": {},
   "outputs": [
    {
     "data": {
      "text/html": [
       "<div style=\"max-height:1000px;max-width:1500px;overflow:auto;\"><table frame=\"box\" rules=\"cols\">\n",
       "    <tr>\n",
       "        <th style=\"padding-left: 1em; padding-right: 1em; text-align: center\">Score</th>\n",
       "        <th style=\"padding-left: 1em; padding-right: 1em; text-align: center\">Text</th>\n",
       "        <th style=\"padding-left: 1em; padding-right: 1em; text-align: center\">word_count</th>\n",
       "        <th style=\"padding-left: 1em; padding-right: 1em; text-align: center\">sentiment</th>\n",
       "    </tr>\n",
       "    <tr>\n",
       "        <td style=\"padding-left: 1em; padding-right: 1em; text-align: center; vertical-align: top\">5</td>\n",
       "        <td style=\"padding-left: 1em; padding-right: 1em; text-align: center; vertical-align: top\">I have bought several of<br>the Vitality canned dog ...</td>\n",
       "        <td style=\"padding-left: 1em; padding-right: 1em; text-align: center; vertical-align: top\">{&#x27;most&#x27;: 1.0,<br>&#x27;appreciates&#x27;: 1.0, ...</td>\n",
       "        <td style=\"padding-left: 1em; padding-right: 1em; text-align: center; vertical-align: top\">1</td>\n",
       "    </tr>\n",
       "    <tr>\n",
       "        <td style=\"padding-left: 1em; padding-right: 1em; text-align: center; vertical-align: top\">1</td>\n",
       "        <td style=\"padding-left: 1em; padding-right: 1em; text-align: center; vertical-align: top\">Product arrived labeled<br>as Jumbo Salted ...</td>\n",
       "        <td style=\"padding-left: 1em; padding-right: 1em; text-align: center; vertical-align: top\">{&#x27;salted&#x27;: 1.0, &#x27;or&#x27;:<br>1.0, &#x27;error&#x27;: 1.0, ...</td>\n",
       "        <td style=\"padding-left: 1em; padding-right: 1em; text-align: center; vertical-align: top\">0</td>\n",
       "    </tr>\n",
       "    <tr>\n",
       "        <td style=\"padding-left: 1em; padding-right: 1em; text-align: center; vertical-align: top\">4</td>\n",
       "        <td style=\"padding-left: 1em; padding-right: 1em; text-align: center; vertical-align: top\">This is a confection that<br>has been around a few ...</td>\n",
       "        <td style=\"padding-left: 1em; padding-right: 1em; text-align: center; vertical-align: top\">{&#x27;to&#x27;: 1.0, &#x27;brother&#x27;:<br>1.0, &#x27;his&#x27;: 1.0, &#x27;out&#x27;: ...</td>\n",
       "        <td style=\"padding-left: 1em; padding-right: 1em; text-align: center; vertical-align: top\">1</td>\n",
       "    </tr>\n",
       "    <tr>\n",
       "        <td style=\"padding-left: 1em; padding-right: 1em; text-align: center; vertical-align: top\">2</td>\n",
       "        <td style=\"padding-left: 1em; padding-right: 1em; text-align: center; vertical-align: top\">If you are looking for<br>the secret ingredient in ...</td>\n",
       "        <td style=\"padding-left: 1em; padding-right: 1em; text-align: center; vertical-align: top\">{&#x27;very&#x27;: 1.0, &#x27;is&#x27;: 1.0,<br>&#x27;soda&#x27;: 1.0, &#x27;cherry&#x27;: ...</td>\n",
       "        <td style=\"padding-left: 1em; padding-right: 1em; text-align: center; vertical-align: top\">0</td>\n",
       "    </tr>\n",
       "    <tr>\n",
       "        <td style=\"padding-left: 1em; padding-right: 1em; text-align: center; vertical-align: top\">5</td>\n",
       "        <td style=\"padding-left: 1em; padding-right: 1em; text-align: center; vertical-align: top\">Great taffy at a great<br>price.  There was a wide ...</td>\n",
       "        <td style=\"padding-left: 1em; padding-right: 1em; text-align: center; vertical-align: top\">{&#x27;is&#x27;: 1.0, &#x27;lover&#x27;: 1.0,<br>&#x27;your&#x27;: 1.0, &#x27;very&#x27;:  ...</td>\n",
       "        <td style=\"padding-left: 1em; padding-right: 1em; text-align: center; vertical-align: top\">1</td>\n",
       "    </tr>\n",
       "    <tr>\n",
       "        <td style=\"padding-left: 1em; padding-right: 1em; text-align: center; vertical-align: top\">4</td>\n",
       "        <td style=\"padding-left: 1em; padding-right: 1em; text-align: center; vertical-align: top\">I got a wild hair for<br>taffy and ordered this ...</td>\n",
       "        <td style=\"padding-left: 1em; padding-right: 1em; text-align: center; vertical-align: top\">{&#x27;delightful&#x27;: 1.0, &#x27;it&#x27;:<br>1.0, &#x27;of&#x27;: 1.0, &#x27;brand&#x27;: ...</td>\n",
       "        <td style=\"padding-left: 1em; padding-right: 1em; text-align: center; vertical-align: top\">1</td>\n",
       "    </tr>\n",
       "    <tr>\n",
       "        <td style=\"padding-left: 1em; padding-right: 1em; text-align: center; vertical-align: top\">5</td>\n",
       "        <td style=\"padding-left: 1em; padding-right: 1em; text-align: center; vertical-align: top\">This saltwater taffy had<br>great flavors and was ...</td>\n",
       "        <td style=\"padding-left: 1em; padding-right: 1em; text-align: center; vertical-align: top\">{&#x27;loved&#x27;: 1.0, &#x27;beach&#x27;:<br>1.0, &#x27;at&#x27;: 1.0, &#x27;serv ...</td>\n",
       "        <td style=\"padding-left: 1em; padding-right: 1em; text-align: center; vertical-align: top\">1</td>\n",
       "    </tr>\n",
       "    <tr>\n",
       "        <td style=\"padding-left: 1em; padding-right: 1em; text-align: center; vertical-align: top\">5</td>\n",
       "        <td style=\"padding-left: 1em; padding-right: 1em; text-align: center; vertical-align: top\">This taffy is so good.<br>It is very soft and ...</td>\n",
       "        <td style=\"padding-left: 1em; padding-right: 1em; text-align: center; vertical-align: top\">{&#x27;satisfying&#x27;: 1.0,<br>&#x27;buying&#x27;: 1.0, &#x27;you&#x27;: ...</td>\n",
       "        <td style=\"padding-left: 1em; padding-right: 1em; text-align: center; vertical-align: top\">1</td>\n",
       "    </tr>\n",
       "    <tr>\n",
       "        <td style=\"padding-left: 1em; padding-right: 1em; text-align: center; vertical-align: top\">5</td>\n",
       "        <td style=\"padding-left: 1em; padding-right: 1em; text-align: center; vertical-align: top\">Right now I&#x27;m mostly just<br>sprouting this so my  ...</td>\n",
       "        <td style=\"padding-left: 1em; padding-right: 1em; text-align: center; vertical-align: top\">{&#x27;rye&#x27;: 1.0, &#x27;grass&#x27;:<br>1.0, &#x27;and&#x27;: 1.0, ...</td>\n",
       "        <td style=\"padding-left: 1em; padding-right: 1em; text-align: center; vertical-align: top\">1</td>\n",
       "    </tr>\n",
       "    <tr>\n",
       "        <td style=\"padding-left: 1em; padding-right: 1em; text-align: center; vertical-align: top\">5</td>\n",
       "        <td style=\"padding-left: 1em; padding-right: 1em; text-align: center; vertical-align: top\">This is a very healthy<br>dog food. Good for their ...</td>\n",
       "        <td style=\"padding-left: 1em; padding-right: 1em; text-align: center; vertical-align: top\">{&#x27;every&#x27;: 1.0, &#x27;at&#x27;: 1.0,<br>&#x27;feeding&#x27;: 1.0, &#x27;her&#x27;: ...</td>\n",
       "        <td style=\"padding-left: 1em; padding-right: 1em; text-align: center; vertical-align: top\">1</td>\n",
       "    </tr>\n",
       "</table>\n",
       "[210410 rows x 4 columns]<br/>Note: Only the head of the SFrame is printed.<br/>You can use print_rows(num_rows=m, num_columns=n) to print more rows and columns.\n",
       "</div>"
      ],
      "text/plain": [
       "Columns:\n",
       "\tScore\tint\n",
       "\tText\tstr\n",
       "\tword_count\tdict\n",
       "\tsentiment\tint\n",
       "\n",
       "Rows: 210410\n",
       "\n",
       "Data:\n",
       "+-------+-------------------------------+-------------------------------+-----------+\n",
       "| Score |              Text             |           word_count          | sentiment |\n",
       "+-------+-------------------------------+-------------------------------+-----------+\n",
       "|   5   | I have bought several of t... | {'most': 1.0, 'appreciates... |     1     |\n",
       "|   1   | Product arrived labeled as... | {'salted': 1.0, 'or': 1.0,... |     0     |\n",
       "|   4   | This is a confection that ... | {'to': 1.0, 'brother': 1.0... |     1     |\n",
       "|   2   | If you are looking for the... | {'very': 1.0, 'is': 1.0, '... |     0     |\n",
       "|   5   | Great taffy at a great pri... | {'is': 1.0, 'lover': 1.0, ... |     1     |\n",
       "|   4   | I got a wild hair for taff... | {'delightful': 1.0, 'it': ... |     1     |\n",
       "|   5   | This saltwater taffy had g... | {'loved': 1.0, 'beach': 1.... |     1     |\n",
       "|   5   | This taffy is so good.  It... | {'satisfying': 1.0, 'buyin... |     1     |\n",
       "|   5   | Right now I'm mostly just ... | {'rye': 1.0, 'grass': 1.0,... |     1     |\n",
       "|   5   | This is a very healthy dog... | {'every': 1.0, 'at': 1.0, ... |     1     |\n",
       "+-------+-------------------------------+-------------------------------+-----------+\n",
       "[210410 rows x 4 columns]\n",
       "Note: Only the head of the SFrame is printed.\n",
       "You can use print_rows(num_rows=m, num_columns=n) to print more rows and columns."
      ]
     },
     "execution_count": 8,
     "metadata": {},
     "output_type": "execute_result"
    }
   ],
   "source": [
    "sf = sf[sf['Score'] != 3]\n",
    "sf['sentiment'] = sf['Score'] >= 4\n",
    "sf"
   ]
  },
  {
   "cell_type": "code",
   "execution_count": 9,
   "metadata": {},
   "outputs": [
    {
     "data": {
      "text/html": [
       "<pre>Logistic regression:</pre>"
      ],
      "text/plain": [
       "Logistic regression:"
      ]
     },
     "metadata": {},
     "output_type": "display_data"
    },
    {
     "data": {
      "text/html": [
       "<pre>--------------------------------------------------------</pre>"
      ],
      "text/plain": [
       "--------------------------------------------------------"
      ]
     },
     "metadata": {},
     "output_type": "display_data"
    },
    {
     "data": {
      "text/html": [
       "<pre>Number of examples          : 168452</pre>"
      ],
      "text/plain": [
       "Number of examples          : 168452"
      ]
     },
     "metadata": {},
     "output_type": "display_data"
    },
    {
     "data": {
      "text/html": [
       "<pre>Number of classes           : 2</pre>"
      ],
      "text/plain": [
       "Number of classes           : 2"
      ]
     },
     "metadata": {},
     "output_type": "display_data"
    },
    {
     "data": {
      "text/html": [
       "<pre>Number of feature columns   : 1</pre>"
      ],
      "text/plain": [
       "Number of feature columns   : 1"
      ]
     },
     "metadata": {},
     "output_type": "display_data"
    },
    {
     "data": {
      "text/html": [
       "<pre>Number of unpacked features : 69937</pre>"
      ],
      "text/plain": [
       "Number of unpacked features : 69937"
      ]
     },
     "metadata": {},
     "output_type": "display_data"
    },
    {
     "data": {
      "text/html": [
       "<pre>Number of coefficients      : 69938</pre>"
      ],
      "text/plain": [
       "Number of coefficients      : 69938"
      ]
     },
     "metadata": {},
     "output_type": "display_data"
    },
    {
     "data": {
      "text/html": [
       "<pre>Starting L-BFGS</pre>"
      ],
      "text/plain": [
       "Starting L-BFGS"
      ]
     },
     "metadata": {},
     "output_type": "display_data"
    },
    {
     "data": {
      "text/html": [
       "<pre>--------------------------------------------------------</pre>"
      ],
      "text/plain": [
       "--------------------------------------------------------"
      ]
     },
     "metadata": {},
     "output_type": "display_data"
    },
    {
     "data": {
      "text/html": [
       "<pre>+-----------+----------+-----------+--------------+-------------------+---------------------+</pre>"
      ],
      "text/plain": [
       "+-----------+----------+-----------+--------------+-------------------+---------------------+"
      ]
     },
     "metadata": {},
     "output_type": "display_data"
    },
    {
     "data": {
      "text/html": [
       "<pre>| Iteration | Passes   | Step size | Elapsed Time | Training Accuracy | Validation Accuracy |</pre>"
      ],
      "text/plain": [
       "| Iteration | Passes   | Step size | Elapsed Time | Training Accuracy | Validation Accuracy |"
      ]
     },
     "metadata": {},
     "output_type": "display_data"
    },
    {
     "data": {
      "text/html": [
       "<pre>+-----------+----------+-----------+--------------+-------------------+---------------------+</pre>"
      ],
      "text/plain": [
       "+-----------+----------+-----------+--------------+-------------------+---------------------+"
      ]
     },
     "metadata": {},
     "output_type": "display_data"
    },
    {
     "data": {
      "text/html": [
       "<pre>| 0         | 4        | 0.250000  | 3.287436     | 0.844787          | 0.843081            |</pre>"
      ],
      "text/plain": [
       "| 0         | 4        | 0.250000  | 3.287436     | 0.844787          | 0.843081            |"
      ]
     },
     "metadata": {},
     "output_type": "display_data"
    },
    {
     "data": {
      "text/html": [
       "<pre>| 1         | 9        | 3.250000  | 5.906776     | 0.931933          | 0.914033            |</pre>"
      ],
      "text/plain": [
       "| 1         | 9        | 3.250000  | 5.906776     | 0.931933          | 0.914033            |"
      ]
     },
     "metadata": {},
     "output_type": "display_data"
    },
    {
     "data": {
      "text/html": [
       "<pre>| 2         | 11       | 2.739575  | 7.013304     | 0.941046          | 0.920111            |</pre>"
      ],
      "text/plain": [
       "| 2         | 11       | 2.739575  | 7.013304     | 0.941046          | 0.920111            |"
      ]
     },
     "metadata": {},
     "output_type": "display_data"
    },
    {
     "data": {
      "text/html": [
       "<pre>| 3         | 12       | 2.739575  | 7.739463     | 0.940672          | 0.916273            |</pre>"
      ],
      "text/plain": [
       "| 3         | 12       | 2.739575  | 7.739463     | 0.940672          | 0.916273            |"
      ]
     },
     "metadata": {},
     "output_type": "display_data"
    },
    {
     "data": {
      "text/html": [
       "<pre>| 4         | 14       | 1.692620  | 8.885792     | 0.958772          | 0.930383            |</pre>"
      ],
      "text/plain": [
       "| 4         | 14       | 1.692620  | 8.885792     | 0.958772          | 0.930383            |"
      ]
     },
     "metadata": {},
     "output_type": "display_data"
    },
    {
     "data": {
      "text/html": [
       "<pre>| 9         | 20       | 1.315355  | 13.510012    | 0.981740          | 0.930454            |</pre>"
      ],
      "text/plain": [
       "| 9         | 20       | 1.315355  | 13.510012    | 0.981740          | 0.930454            |"
      ]
     },
     "metadata": {},
     "output_type": "display_data"
    },
    {
     "data": {
      "text/html": [
       "<pre>+-----------+----------+-----------+--------------+-------------------+---------------------+</pre>"
      ],
      "text/plain": [
       "+-----------+----------+-----------+--------------+-------------------+---------------------+"
      ]
     },
     "metadata": {},
     "output_type": "display_data"
    }
   ],
   "source": [
    "train_data, test_data = sf.random_split(0.8, seed=0)\n",
    "sentiment_model = tc.logistic_classifier.create(train_data,\n",
    "                                                target='sentiment',\n",
    "                                                features=['word_count'],\n",
    "                                                validation_set=test_data)"
   ]
  },
  {
   "cell_type": "code",
   "execution_count": 12,
   "metadata": {},
   "outputs": [
    {
     "data": {
      "text/plain": [
       "<bound method LogisticClassifier.classify of Class                          : LogisticClassifier\n",
       "\n",
       "Schema\n",
       "------\n",
       "Number of coefficients         : 69938\n",
       "Number of examples             : 168452\n",
       "Number of classes              : 2\n",
       "Number of feature columns      : 1\n",
       "Number of unpacked features    : 69937\n",
       "\n",
       "Hyperparameters\n",
       "---------------\n",
       "L1 penalty                     : 0.0\n",
       "L2 penalty                     : 0.01\n",
       "\n",
       "Training Summary\n",
       "----------------\n",
       "Solver                         : lbfgs\n",
       "Solver iterations              : 10\n",
       "Solver status                  : Completed (Iteration limit reached).\n",
       "Training time (sec)            : 9.4642\n",
       "\n",
       "Settings\n",
       "--------\n",
       "Log-likelihood                 : 10248.3897\n",
       "\n",
       "Highest Positive Coefficients\n",
       "-----------------------------\n",
       "word_count[duster]             : 70.7469\n",
       "word_count[lightbulbs]         : 70.7469\n",
       "word_count[normalize]          : 42.9726\n",
       "word_count[soapiness]          : 31.0212\n",
       "word_count[ftc]                : 30.7182\n",
       "\n",
       "Lowest Negative Coefficients\n",
       "----------------------------\n",
       "word_count[maxes]              : -41.7027\n",
       "word_count[dokee]              : -37.9561\n",
       "word_count[sonewhere]          : -37.567\n",
       "word_count[49970]              : -32.546\n",
       "word_count[b004h4p5uk]         : -29.6043\n",
       ">"
      ]
     },
     "execution_count": 12,
     "metadata": {},
     "output_type": "execute_result"
    }
   ],
   "source": [
    "sentiment_model.classify"
   ]
  },
  {
   "cell_type": "code",
   "execution_count": null,
   "metadata": {},
   "outputs": [],
   "source": []
  }
 ],
 "metadata": {
  "kernelspec": {
   "display_name": "Python 3",
   "language": "python",
   "name": "python3"
  },
  "language_info": {
   "codemirror_mode": {
    "name": "ipython",
    "version": 3
   },
   "file_extension": ".py",
   "mimetype": "text/x-python",
   "name": "python",
   "nbconvert_exporter": "python",
   "pygments_lexer": "ipython3",
   "version": "3.7.6"
  }
 },
 "nbformat": 4,
 "nbformat_minor": 4
}
